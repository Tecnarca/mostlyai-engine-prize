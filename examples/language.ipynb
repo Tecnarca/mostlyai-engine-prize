{
 "cells": [
  {
   "cell_type": "markdown",
   "metadata": {
    "tags": []
   },
   "source": [
    "# Language Model: flat data, without context"
   ]
  },
  {
   "cell_type": "markdown",
   "metadata": {},
   "source": [
    "[![Open in Colab](https://colab.research.google.com/assets/colab-badge.svg)](https://colab.research.google.com/github/mostly-ai/mostlyai-engine/blob/main/examples/language.ipynb)"
   ]
  },
  {
   "cell_type": "code",
   "execution_count": null,
   "metadata": {
    "collapsed": false,
    "jupyter": {
     "outputs_hidden": false
    }
   },
   "outputs": [],
   "source": [
    "import logging\n",
    "import sys\n",
    "import numpy as np\n",
    "\n",
    "logging.basicConfig(\n",
    "    level=logging.INFO,\n",
    "    stream=sys.stdout,\n",
    "    format=\"[%(asctime)s] %(levelname)-7s: %(message)s\",\n",
    "    datefmt=\"%Y-%m-%d %H:%M:%S\",\n",
    ")"
   ]
  },
  {
   "cell_type": "code",
   "execution_count": null,
   "metadata": {
    "collapsed": false,
    "jupyter": {
     "outputs_hidden": false
    }
   },
   "outputs": [],
   "source": [
    "dataset_name = \"sacred\"\n",
    "ctx_encoding_types = {\"book\": \"TABULAR_CATEGORICAL\"}\n",
    "tgt_encoding_types = {\"text\": \"LANGUAGE_TEXT\"}\n",
    "fn = \"https://github.com/mostly-ai/public-demo-data/raw/dev/sacred_verses/sacred.csv.gz\"\n",
    "df = pd.read_csv(fn)[list(ctx_encoding_types.keys()) + list(tgt_encoding_types.keys())]\n",
    "df.text = df[\"text\"].str[:30]  # trim to 30 chars max to speed up demo\n",
    "print(df.shape)\n",
    "df.iloc[0]"
   ]
  },
  {
   "cell_type": "code",
   "execution_count": null,
   "metadata": {
    "collapsed": false,
    "jupyter": {
     "outputs_hidden": false
    }
   },
   "outputs": [],
   "source": [
    "ws = Path(\"language-ws\")\n",
    "\n",
    "pk = \"pk\"\n",
    "df[pk] = list(range(df.shape[0]))\n",
    "ctx_columns = [pk, *[key for key in ctx_encoding_types.keys()]] if ctx_encoding_types else [pk]\n",
    "tgt_columns = [pk, *[key for key in tgt_encoding_types.keys()]]\n",
    "ctx_df = df[ctx_columns]\n",
    "tgt_df = df[tgt_columns]\n",
    "\n",
    "split(\n",
    "    tgt_data=tgt_df,\n",
    "    tgt_context_key=pk,\n",
    "    tgt_encoding_types=tgt_encoding_types,\n",
    "    ctx_data=ctx_df,\n",
    "    ctx_primary_key=pk,\n",
    "    ctx_encoding_types=ctx_encoding_types,\n",
    "    workspace_dir=ws,\n",
    ")\n",
    "analyze(workspace_dir=ws)\n",
    "encode(workspace_dir=ws)"
   ]
  },
  {
   "cell_type": "code",
   "execution_count": null,
   "metadata": {
    "collapsed": false,
    "jupyter": {
     "outputs_hidden": false
    }
   },
   "outputs": [],
   "source": [
    "encoded_data = pd.read_parquet(ws / \"OriginalData\" / \"encoded-data\")\n",
    "encoded_data.head()"
   ]
  },
  {
   "cell_type": "code",
   "execution_count": null,
   "metadata": {
    "collapsed": false,
    "jupyter": {
     "outputs_hidden": false
    }
   },
   "outputs": [],
   "source": [
    "# train(workspace_dir=workspace_dir, max_training_time=2, model=\"Locutusque/TinyMistral-248M\")\n",
    "# train(workspace_dir=workspace_dir, max_training_time=2, model=\"EleutherAI/pythia-160m\")\n",
    "# train(workspace_dir=workspace_dir, max_training_time=2, model=\"EleutherAI/pythia-410m\")\n",
    "train(workspace_dir=ws, max_training_time=2, model=\"MOSTLY_AI/LSTMFromScratch-3m\")"
   ]
  },
  {
   "cell_type": "code",
   "execution_count": null,
   "metadata": {
    "tags": []
   },
   "outputs": [],
   "source": [
    "generate(sample_size=100, workspace_dir=ws)"
   ]
  },
  {
   "cell_type": "code",
   "execution_count": null,
   "metadata": {},
   "outputs": [],
   "source": [
    "from pathlib import Path\n",
    "import pandas as pd\n",
    "from mostlyai import engine\n",
    "\n",
    "# set up workspace\n",
    "ws = Path(\"ws-language-flat\")\n",
    "\n",
    "# load original data\n",
    "url = \"https://github.com/mostly-ai/public-demo-data/raw/refs/heads/dev/arxiv\"\n",
    "trn_df = pd.read_parquet(f\"{url}/synthetic-data-papers.parquet\")[['category', 'title']]\n",
    "\n",
    "# execute the engine steps\n",
    "engine.split(                         # split data as PQT files for `trn` + `val` to `{ws}/OriginalData/tgt-data`\n",
    "    workspace_dir=ws,\n",
    "    tgt_data=trn_df,\n",
    "    model_type=\"LANGUAGE\",\n",
    ")\n",
    "engine.analyze(workspace_dir=ws)      # generate column-level statistics to `{ws}/ModelStore/tgt-stats/stats.json`\n",
    "engine.encode(workspace_dir=ws)       # encode training data to `{ws}/OriginalData/encoded-data`\n",
    "engine.train(                         # train model and store to `{ws}/ModelStore/model-data`\n",
    "    workspace_dir=ws,\n",
    "    model=\"MOSTLY_AI/LSTMFromScratch-3m\",  # use a light-weight LSTM model, trained from scratch (GPU recommended)\n",
    "    # model=\"microsoft/phi-1.5\",           # or alternatively use a HF-hosted LLM model (GPU required)\n",
    "    max_training_time=10,                  # limit TRAIN to 10 minute for demo purposes\n",
    ")\n",
    "engine.generate(                      # use model to generate synthetic samples to `{ws}/SyntheticData`\n",
    "    workspace_dir=ws, \n",
    "    sample_size=100,\n",
    ")"
   ]
  },
  {
   "cell_type": "code",
   "execution_count": null,
   "metadata": {},
   "outputs": [],
   "source": [
    "syn_tgt_df = pd.read_parquet(ws / \"SyntheticData\") # load synthetic data\n",
    "syn_tgt_df.head(5)"
   ]
  },
  {
   "cell_type": "code",
   "execution_count": null,
   "metadata": {},
   "outputs": [],
   "source": []
  }
 ],
 "metadata": {
  "kernelspec": {
   "display_name": "Python 3 (ipykernel)",
   "language": "python",
   "name": "python3"
  },
  "language_info": {
   "codemirror_mode": {
    "name": "ipython",
    "version": 3
   },
   "file_extension": ".py",
   "mimetype": "text/x-python",
   "name": "python",
   "nbconvert_exporter": "python",
   "pygments_lexer": "ipython3",
   "version": "3.12.8"
  },
  "toc": {
   "base_numbering": 1,
   "nav_menu": {},
   "number_sections": false,
   "sideBar": true,
   "skip_h1_title": false,
   "title_cell": "Table of Contents",
   "title_sidebar": "Contents",
   "toc_cell": false,
   "toc_position": {},
   "toc_section_display": true,
   "toc_window_display": false
  }
 },
 "nbformat": 4,
 "nbformat_minor": 4
}
